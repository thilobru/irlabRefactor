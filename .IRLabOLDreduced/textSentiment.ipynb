{
 "cells": [
  {
   "cell_type": "code",
   "execution_count": 3,
   "metadata": {},
   "outputs": [],
   "source": [
    "import spacy\n",
    "import pandas as pd\n",
    "from afinn import Afinn\n",
    "import numpy as np\n",
    "from os import listdir, mkdir, path\n",
    "\n",
    "nlp = spacy.load(\"en_core_web_sm\")\n",
    "\n",
    "afinn_df = pd.read_csv(\"data/AFINN-en-165.tsv\", sep=\"\\t\", header=None, names=[\"word\", \"score\"])\n",
    "#afinn_df\n",
    "afinn = Afinn()\n",
    "\n",
    "vad_df = pd.read_csv(\"data/NRC-VAD-Lexicon.tsv\", sep=\"\\t\")\n",
    "#vad_df"
   ]
  },
  {
   "cell_type": "code",
   "execution_count": 4,
   "metadata": {},
   "outputs": [],
   "source": [
    "afinn_scores = dict(zip(afinn_df[\"word\"], afinn_df[\"score\"]))\n",
    "#afinn_scores[\"yummy\"]\n",
    "def afinn_score(text):\n",
    "    return sum(afinn_scores.get(t.lemma_, 0) for t in nlp(text))\n",
    "\n",
    "word_valence = dict(zip(vad_df[\"Word\"], vad_df[\"Valence\"]))\n",
    "word_arousal = dict(zip(vad_df[\"Word\"], vad_df[\"Arousal\"]))\n",
    "word_dminanc = dict(zip(vad_df[\"Word\"], vad_df[\"Dominance\"]))\n",
    "\n",
    "def text_valence(text, agg=sum):\n",
    "    return agg([word_valence.get(t.lemma_, 0) for t in nlp(text)])\n",
    "\n",
    "def text_arousal(text, agg=sum):\n",
    "    return agg([word_arousal.get(t.lemma_, 0) for t in nlp(text)])\n",
    "\n",
    "def text_dminanc(text, agg=sum):\n",
    "    return agg([word_dminanc.get(t.lemma_, 0) for t in nlp(text)])"
   ]
  },
  {
   "cell_type": "code",
   "execution_count": null,
   "metadata": {
    "tags": []
   },
   "outputs": [],
   "source": [
    "text_dir = \"data/text_pp_new/\"\n",
    "text_files = [f for f in listdir(text_dir)]\n",
    "results = []\n",
    "for f in text_files:\n",
    "    with open(text_dir+f, errors = \"ignore\") as text:\n",
    "        ting = text.readlines()\n",
    "        #print(len(ting))\n",
    "        if len(ting) != 1:\n",
    "            ting = ['no']\n",
    "        #print(ting[0][0])\n",
    "        score = afinn.score(ting[0])\n",
    "        results.append([f[0:17], score])\n",
    "        #break\n",
    "print(results)"
   ]
  },
  {
   "cell_type": "code",
   "execution_count": 58,
   "metadata": {},
   "outputs": [],
   "source": [
    "resultsdf = pd.DataFrame(results, columns = ['id', 'AFINN'])\n",
    "resultsdf.to_csv('afinnSentimentNEW.tsv', sep='\\t', index=False)"
   ]
  },
  {
   "cell_type": "code",
   "execution_count": 22,
   "metadata": {},
   "outputs": [
    {
     "data": {
      "text/plain": [
       "0.0"
      ]
     },
     "execution_count": 22,
     "metadata": {},
     "output_type": "execute_result"
    }
   ],
   "source": [
    "afinn.score('text')"
   ]
  },
  {
   "cell_type": "code",
   "execution_count": 18,
   "metadata": {
    "tags": []
   },
   "outputs": [],
   "source": [
    "counting = 0\n",
    "score = []\n",
    "text_files = [\"data/text_pp/\" + f for f in listdir(\"data/text_pp/\")]\n",
    "for f in text_files:\n",
    "    with open(f, errors = \"ignore\") as txt:\n",
    "        #print(row['full_text'], afinn.score(row['full_text']))\n",
    "        txt = txt.readlines()[0]\n",
    "        score.append([\n",
    "            #txt['Datetime'],\n",
    "            afinn_score(txt),\n",
    "            afinn.score(txt),\n",
    "            text_valence(txt),\n",
    "            text_arousal(txt),\n",
    "            text_dminanc(txt),\n",
    "            text_valence(txt, agg=np.mean),\n",
    "            text_arousal(txt, agg=np.mean),\n",
    "            text_dminanc(txt, agg=np.mean),\n",
    "            #txt#,\n",
    "            #wordList(txt)\n",
    "            ])\n",
    "        #break\n",
    "        counting+=1\n",
    "        # if (counting % 1000 == 0): print(counting/len(tweetDf.index)*100, '%,', counting, '/', len(tweetDf.index))\n",
    "        # if counting == 100: break\n",
    "print(score)\n",
    "#scoredf = pd.DataFrame(score, columns = ['date','AfinnSentiment','AfinnDefaultSentiment','NRCValence','NRCArousal','NRCDominance','NRCValenceMean','NRCArousalMean','NRCDominanceMean','fulltext','lemma'])"
   ]
  }
 ],
 "metadata": {
  "interpreter": {
   "hash": "3898892d7e34557bb8499aff9aa0ccd3bf7bab375649613f01d0952879e4c360"
  },
  "kernelspec": {
   "display_name": "Python 3.9.6 64-bit",
   "name": "python3"
  },
  "language_info": {
   "codemirror_mode": {
    "name": "ipython",
    "version": 3
   },
   "file_extension": ".py",
   "mimetype": "text/x-python",
   "name": "python",
   "nbconvert_exporter": "python",
   "pygments_lexer": "ipython3",
   "version": "3.9.9"
  },
  "orig_nbformat": 2
 },
 "nbformat": 4,
 "nbformat_minor": 2
}

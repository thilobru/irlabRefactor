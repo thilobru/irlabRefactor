{
 "cells": [
  {
   "cell_type": "markdown",
   "metadata": {},
   "source": [
    "# Make correct folder structure"
   ]
  },
  {
   "cell_type": "markdown",
   "metadata": {},
   "source": [
    "## libraries"
   ]
  },
  {
   "cell_type": "code",
   "execution_count": 7,
   "metadata": {},
   "outputs": [],
   "source": [
    "from os import listdir, mkdir, path\n",
    "import shutil"
   ]
  },
  {
   "cell_type": "markdown",
   "metadata": {},
   "source": [
    "## rootPaths"
   ]
  },
  {
   "cell_type": "code",
   "execution_count": 8,
   "metadata": {},
   "outputs": [],
   "source": [
    "from code_evaluations import define \n",
    "\n",
    "rootPath = define.imagePath()"
   ]
  },
  {
   "cell_type": "code",
   "execution_count": 12,
   "metadata": {},
   "outputs": [],
   "source": [
    "#source rootPath\n",
    "srcePNGDir = rootPath + \"/images\"\n",
    "#destination rootPaths\n",
    "dstPath = rootPath\n",
    "dstDirPNG = dstPath + \"/png/\"\n",
    "dstDirTXT = dstPath + \"/txt/\"\n",
    "dstDirJSON = dstPath + \"/json/\"\n",
    "dstDirHTML = dstPath + \"/html/\"\n"
   ]
  },
  {
   "cell_type": "markdown",
   "metadata": {},
   "source": [
    "## add files to main-file-structure"
   ]
  },
  {
   "cell_type": "code",
   "execution_count": 14,
   "metadata": {},
   "outputs": [],
   "source": [
    "main_files = [f for f in listdir(srcePNGDir)]\n",
    "if not path.exists(dstDirPNG):  mkdir(dstDirPNG)\n",
    "# if not path.exists(dstDirTXT):  mkdir(dstDirTXT)\n",
    "# if not path.exists(dstDirJSON): mkdir(dstDirJSON)\n",
    "# if not path.exists(dstDirHTML): mkdir(dstDirHTML)\n",
    "# print(main_files)\n",
    "for f1 in main_files:\n",
    "    # f1: folders with 2 chars of image url hash\n",
    "    subDir = srcePNGDir + '/' + f1\n",
    "    subFolders = [f for f in listdir(subDir)]\n",
    "    # print(\"First Dir: \", subDir)\n",
    "\n",
    "    for f2 in subFolders:\n",
    "        # f2: folders with 16 chars of image url hash\n",
    "        subsubDir = subDir + '/' + f2\n",
    "        # print(\"Second Dir: \", subsubDir)\n",
    "\n",
    "        # copy png file\n",
    "        srcPNG = subsubDir + \"/image.png\"\n",
    "        dstPNG = dstDirPNG + f2 + \".png\"\n",
    "        shutil.copyfile(srcPNG, dstPNG)\n",
    "\n",
    "        # subsubsubDIr = subsubDir + '/pages'\n",
    "        # subsubsubFolders = [f for f in listdir(subsubsubDIr)]\n",
    "        # # print(\"Third dir: pages\", )\n",
    "\n",
    "        # for f4 in subsubsubFolders:\n",
    "        #     # f4: folders with 16 chars of page url hash\n",
    "        #     subsubsubsubDir = subsubsubDIr + '/' + f4\n",
    "        #     # print(\"Fourth dir: \", f4, \"\\n\")\n",
    "\n",
    "        #     # copy rankings file\n",
    "        #     srcTXT = subsubsubsubDir + \"/snapshot/text.txt\"\n",
    "        #     dstTXT = dstDirTXT + f4 + \".txt\"\n",
    "        #     shutil.copyfile(srcTXT, dstTXT)\n",
    "        #     srcJSON = subsubsubsubDir + \"/rankings.jsonl\"\n",
    "        #     dstJSON = dstDirJSON + f4 + \".jsonl\"\n",
    "        #     shutil.copyfile(srcJSON, dstJSON)\n",
    "        #     srcHTML = subsubsubsubDir + \"/snapshot/dom.html\"\n",
    "        #     dstHTML = dstDirHTML + f4 + \".html\"\n",
    "        #     shutil.copyfile(srcHTML, dstHTML)\n",
    "    #         break\n",
    "    #     break\n",
    "    # break"
   ]
  }
 ],
 "metadata": {
  "interpreter": {
   "hash": "3898892d7e34557bb8499aff9aa0ccd3bf7bab375649613f01d0952879e4c360"
  },
  "kernelspec": {
   "display_name": "Python 3.9.6 64-bit",
   "name": "python3"
  },
  "language_info": {
   "codemirror_mode": {
    "name": "ipython",
    "version": 3
   },
   "file_extension": ".py",
   "mimetype": "text/x-python",
   "name": "python",
   "nbconvert_exporter": "python",
   "pygments_lexer": "ipython3",
   "version": "3.9.9"
  },
  "orig_nbformat": 4
 },
 "nbformat": 4,
 "nbformat_minor": 2
}

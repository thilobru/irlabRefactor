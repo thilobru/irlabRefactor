{
 "cells": [
  {
   "cell_type": "code",
   "execution_count": 1,
   "metadata": {},
   "outputs": [
    {
     "name": "stderr",
     "output_type": "stream",
     "text": [
      "[nltk_data] Downloading package punkt to\n",
      "[nltk_data]     C:\\Users\\thilo\\AppData\\Roaming\\nltk_data...\n",
      "[nltk_data]   Package punkt is already up-to-date!\n",
      "[nltk_data] Downloading package wordnet to\n",
      "[nltk_data]     C:\\Users\\thilo\\AppData\\Roaming\\nltk_data...\n",
      "[nltk_data]   Package wordnet is already up-to-date!\n"
     ]
    }
   ],
   "source": [
    "import pandas as pd\n",
    "import nltk\n",
    "import os\n",
    "from os import listdir, mkdir, path\n",
    "import re\n",
    "\n",
    "# tokenizer\n",
    "from nltk.tokenize import word_tokenize\n",
    "from nltk.corpus import stopwords\n",
    "\n",
    "#stopwords\n",
    "stop_words = set(stopwords.words('english'))\n",
    "nltk.download('punkt')\n",
    "\n",
    "# lemmatizer\n",
    "from nltk.stem import WordNetLemmatizer\n",
    "lemmatizer = WordNetLemmatizer()\n",
    "nltk.download('wordnet')\n",
    "\n",
    "# word frequencies\n",
    "import collections\n"
   ]
  },
  {
   "cell_type": "code",
   "execution_count": 13,
   "metadata": {},
   "outputs": [
    {
     "name": "stdout",
     "output_type": "stream",
     "text": [
      "E:/InformationRetrieval/images/\n"
     ]
    }
   ],
   "source": [
    "data_dir = \"E:/InformationRetrieval/images/\"\n",
    "print(data_dir)"
   ]
  },
  {
   "cell_type": "code",
   "execution_count": 5,
   "metadata": {},
   "outputs": [],
   "source": [
    "def preprocess(doc): \n",
    "\n",
    "    # change list to string\n",
    "    doc = ''.join(e for e in doc)\n",
    "\n",
    "    # make doc lower case\n",
    "    doc = doc.lower()\n",
    "\n",
    "    # remove url's \n",
    "    doc = re.sub(r'http\\S+', '', doc)\n",
    "\n",
    "    # only keep letters \n",
    "    doc = re.sub('[^a-z]+', ' ', doc)\n",
    "\n",
    "    # remove sentences containing specific words ??\n",
    "    # doc = re.sub(\"^.*\\b(cookies|subscribe)\\b.*$\", \"\", doc)\n",
    "\n",
    "    # tokenize the text\n",
    "    doc = word_tokenize(doc)\n",
    "\n",
    "    # lemmatize words\n",
    "    doc = [lemmatizer.lemmatize(w) for w in doc]\n",
    "\n",
    "    # remove words with length of one \n",
    "    doc = [w for w in doc if len(w) > 1] \n",
    "\n",
    "    # remove stopwords\n",
    "    doc = [w for w in doc if not w.lower() in stop_words]\n",
    "    \n",
    "    # count word frequencies\n",
    "    occurrences = collections.Counter(doc)\n",
    "\n",
    "    # remove words that only appear once or twice from the document  \n",
    "    less_frequent =  [p for p in occurrences if occurrences[p] in [1,2]]\n",
    "    doc = [w for w in doc if w not in less_frequent]\n",
    "   \n",
    "    # change list to string\n",
    "    doc = ' '.join(w for w in doc)\n",
    "\n",
    "    return doc"
   ]
  },
  {
   "cell_type": "code",
   "execution_count": null,
   "metadata": {},
   "outputs": [],
   "source": [
    "image_files = [f for f in listdir(data_dir)]\n",
    "for f in image_files:\n",
    "    subdir = data_dir + f\n",
    "    subdir_files = [f for f in listdir(subdir)]\n",
    "    print(\"\\n\", f)\n",
    "\n",
    "    for f2 in subdir_files:\n",
    "        print(\"   \", subdir_files.index(f2), \" von \", len(subdir_files))\n",
    "        subsubdir = subdir + \"/\" + f2 + \"/pages/\"\n",
    "        subsubdir_files = [f for f in listdir(subsubdir)]\n",
    "\n",
    "        for f3 in subsubdir_files:\n",
    "            subsubsubdir = subsubdir + \"/\" + f3 + \"/snapshot/\"\n",
    "            \n",
    "            # open text file\n",
    "            with open(subsubsubdir + 'text.txt', errors='ignore') as fp:\n",
    "                doc = fp.readlines()\n",
    "\n",
    "            # preprocess file    \n",
    "            doc = preprocess(doc)\n",
    "\n",
    "            # save doc to txt-file\n",
    "            filename = \"data/text_pp_new/\" + f2 + \".txt\" #os.path.join(subsubsubdir + \"text_pp.txt\"  )\n",
    "            print(filename)\n",
    "            f = open(filename, \"w\")\n",
    "            f.write(doc)\n",
    "            f.close()   \n",
    "    #         break\n",
    "    #     break\n",
    "    # break"
   ]
  },
  {
   "cell_type": "code",
   "execution_count": null,
   "metadata": {},
   "outputs": [],
   "source": [
    "image_files = [f for f in listdir(data_dir)]\n",
    "for f in image_files:\n",
    "    subdir = data_dir + f\n",
    "    subdir_files = [f for f in listdir(subdir)]\n",
    "    print(\"\\n\", f)\n",
    "\n",
    "    for f2 in subdir_files:\n",
    "        print(\"   \", subdir_files.index(f2), \" von \", len(subdir_files))\n",
    "        subsubdir = subdir + \"/\" + f2 + \"/pages/\"\n",
    "        subsubdir_files = [f for f in listdir(subsubdir)]\n",
    "\n",
    "        for f3 in subsubdir_files:\n",
    "            subsubsubdir = subsubdir + \"/\" + f3 + \"/snapshot/\"\n",
    "            \n",
    "            # open text file\n",
    "            with open(subsubsubdir + 'text.txt', errors='ignore') as fp:\n",
    "                doc = fp.readlines()\n",
    "\n",
    "            # preprocess file    \n",
    "            doc = preprocess(doc)\n",
    "\n",
    "            # save doc to txt-file\n",
    "            filename = \"data/text_pp_new/\" + f2 + \".txt\" #os.path.join(subsubsubdir + \"text_pp.txt\"  )\n",
    "            print(filename)\n",
    "            f = open(filename, \"w\")\n",
    "            f.write(doc)\n",
    "            f.close()   \n",
    "    #         break\n",
    "    #     break\n",
    "    # break"
   ]
  }
 ],
 "metadata": {
  "interpreter": {
   "hash": "73152ea17d06989dd12ac31f0d14abc20b8718ee305490514aae340b208f94a9"
  },
  "kernelspec": {
   "display_name": "Python 3.8.8 64-bit ('base': conda)",
   "language": "python",
   "name": "python3"
  },
  "language_info": {
   "codemirror_mode": {
    "name": "ipython",
    "version": 3
   },
   "file_extension": ".py",
   "mimetype": "text/x-python",
   "name": "python",
   "nbconvert_exporter": "python",
   "pygments_lexer": "ipython3",
   "version": "3.9.9"
  },
  "orig_nbformat": 4
 },
 "nbformat": 4,
 "nbformat_minor": 2
}

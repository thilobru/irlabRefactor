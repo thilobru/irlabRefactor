{
 "cells": [
  {
   "cell_type": "markdown",
   "metadata": {},
   "source": [
    "# Plots for Topic Relevance"
   ]
  },
  {
   "cell_type": "markdown",
   "metadata": {},
   "source": [
    "### libraries"
   ]
  },
  {
   "cell_type": "code",
   "execution_count": 2,
   "metadata": {},
   "outputs": [],
   "source": [
    "import pandas as pd\n",
    "import os\n",
    "import matplotlib.pyplot as plt"
   ]
  },
  {
   "cell_type": "markdown",
   "metadata": {},
   "source": [
    "### function for loading files in"
   ]
  },
  {
   "cell_type": "code",
   "execution_count": 3,
   "metadata": {},
   "outputs": [],
   "source": [
    "def load_tsv(version):\n",
    "    tsv = pd.read_csv(os.getcwd()+\"/\"+version+'evaluation_topics.tsv', sep='\\t', header=0)\n",
    "    rank_pro = tsv[\"AVG_Rank Pro\"].mean() \n",
    "    rank_con = tsv[\"AVG_Rank Con\"].mean()\n",
    "    tp_pro = tsv[\"TP Pro\"].mean() * 5\n",
    "    tp_con = tsv[\"TP Con\"].mean() * 5\n",
    "    return rank_pro, rank_con, tp_pro, tp_con"
   ]
  },
  {
   "cell_type": "markdown",
   "metadata": {},
   "source": [
    "### stacked bar plots for TP's"
   ]
  },
  {
   "cell_type": "code",
   "execution_count": 5,
   "metadata": {},
   "outputs": [
    {
     "data": {
      "image/png": "[encoded data removed]",
      "text/plain": [
       "<Figure size 432x288 with 1 Axes>"
      ]
     },
     "metadata": {
      "needs_background": "light"
     },
     "output_type": "display_data"
    }
   ],
   "source": [
    "# stacked bar plot for TP's\n",
    "rank_pro0, rank_con0, tp_pro0, tp_con0 = load_tsv(\"0\")\n",
    "rank_pro1, rank_con1, tp_pro1, tp_con1 = load_tsv(\"1\")\n",
    "rank_pro2, rank_con2, tp_pro2, tp_con2 = load_tsv(\"2\")\n",
    "rank_pro3, rank_con3, tp_pro3, tp_con3 = load_tsv(\"3\")\n",
    "rank_pro4, rank_con4, tp_pro4, tp_con4 = load_tsv(\"4\")\n",
    "rank_pro5, rank_con5, tp_pro5, tp_con5 = load_tsv(\"5\")\n",
    "rank_pro6, rank_con6, tp_pro6, tp_con6 = load_tsv(\"6\")\n",
    "\n",
    "Names = ['0', '1', '2', '3', '4', '5', '6']\n",
    "Pros = [tp_pro0, tp_pro1, tp_pro2, tp_pro3, tp_pro4, tp_pro5, tp_pro6]\n",
    "Cons = [tp_con0, tp_con1, tp_con2, tp_con3, tp_con4, tp_con5, tp_con6]\n",
    "width = 0.5\n",
    "\n",
    "fig, ax = plt.subplots()\n",
    "\n",
    "ax.bar(Names, Pros, width, label='Pro', color='teal')\n",
    "ax.bar(Names, Cons, width, bottom=Pros, label='Con', color='brown')\n",
    "\n",
    "ax.set_ylabel('% of topic-relevant images')\n",
    "# ax.set_title('Topic Relevance', fontsize=14)\n",
    "ax.legend(loc='center left', bbox_to_anchor=(1, 0.5))\n",
    "ax.grid(True)\n",
    "\n",
    "plt.show()"
   ]
  },
  {
   "cell_type": "markdown",
   "metadata": {},
   "source": [
    "### stacked bar plots for ranks"
   ]
  },
  {
   "cell_type": "code",
   "execution_count": 17,
   "metadata": {},
   "outputs": [
    {
     "data": {
      "image/png": "[encoded data removed]",
      "text/plain": [
       "<Figure size 432x288 with 1 Axes>"
      ]
     },
     "metadata": {
      "needs_background": "light"
     },
     "output_type": "display_data"
    }
   ],
   "source": [
    "# stacked bar plot for ranks\n",
    "\n",
    "rank_pro0, rank_con0, tp_pro0, tp_con0 = load_tsv(\"0\")\n",
    "rank_pro1, rank_con1, tp_pro1, tp_con1 = load_tsv(\"1\")\n",
    "rank_pro2, rank_con2, tp_pro2, tp_con2 = load_tsv(\"2\")\n",
    "rank_pro3, rank_con3, tp_pro3, tp_con3 = load_tsv(\"3\")\n",
    "rank_pro4, rank_con4, tp_pro4, tp_con4 = load_tsv(\"4\")\n",
    "rank_pro5, rank_con5, tp_pro5, tp_con5 = load_tsv(\"5\")\n",
    "rank_pro6, rank_con6, tp_pro6, tp_con6 = load_tsv(\"6\")\n",
    "\n",
    "Names = ['0', '1', '2', '3', '4', '5', '6']\n",
    "Pros = [rank_pro0, rank_pro1, rank_pro2, rank_pro3, rank_pro4, rank_pro5, rank_pro6]\n",
    "Cons = [rank_con0, rank_con1, rank_con2, rank_con3, rank_con4, rank_con5, rank_con6]\n",
    "width = 0.5\n",
    "\n",
    "fig, ax = plt.subplots()\n",
    "\n",
    "ax.bar(Names, Pros, width, label='Pro', color='teal')\n",
    "ax.bar(Names, Cons, width, bottom=Pros, label='Con', color='brown')\n",
    "\n",
    "ax.set_ylabel('average rank')\n",
    "ax.set_title('Ranks', fontsize=14)\n",
    "ax.legend(loc='center left', bbox_to_anchor=(1, 0.5))\n",
    "ax.grid(True)\n",
    "\n",
    "plt.show()"
   ]
  }
 ],
 "metadata": {
  "interpreter": {
   "hash": "73152ea17d06989dd12ac31f0d14abc20b8718ee305490514aae340b208f94a9"
  },
  "kernelspec": {
   "display_name": "Python 3.8.8 64-bit ('base': conda)",
   "language": "python",
   "name": "python3"
  },
  "language_info": {
   "codemirror_mode": {
    "name": "ipython",
    "version": 3
   },
   "file_extension": ".py",
   "mimetype": "text/x-python",
   "name": "python",
   "nbconvert_exporter": "python",
   "pygments_lexer": "ipython3",
   "version": "3.8.8"
  },
  "orig_nbformat": 4
 },
 "nbformat": 4,
 "nbformat_minor": 2
}
